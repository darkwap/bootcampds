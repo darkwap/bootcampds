{
 "cells": [
  {
   "cell_type": "code",
   "execution_count": null,
   "metadata": {},
   "outputs": [],
   "source": [
    "#\n",
    "print('ello')"
   ]
  },
  {
   "cell_type": "code",
   "execution_count": null,
   "metadata": {},
   "outputs": [],
   "source": [
    "INPUT = [\n",
    "    ('Sepal length', 'Sepal width', 'Petal length', 'Petal width', 'Species'),\n",
    "    (5.8, 2.7, 5.1, 1.9, 'virginica'),\n",
    "    (5.1, 3.5, 1.4, 0.2, 'setosa'),\n",
    "    (5.7, 2.8, 4.1, 1.3, 'versicolor'),\n",
    "    (6.3, 2.9, 5.6, 1.8, 'virginica'),\n",
    "    (6.4, 3.2, 4.5, 1.5, 'versicolor'),\n",
    "    (4.7, 3.2, 1.3, 0.2, 'setosa'),\n",
    "    (7.0, 3.2, 4.7, 1.4, 'versicolor'),\n",
    "    (7.6, 3.0, 6.6, 2.1, 'virginica'),\n",
    "    (4.9, 3.0, 1.4, 0.2, 'setosa'),\n",
    "    (4.9, 2.5, 4.5, 1.7, 'virginica'),\n",
    "    (7.1, 3.0, 5.9, 2.1, 'virginica'),\n",
    "    (4.6, 3.4, 1.4, 0.3, 'setosa'),\n",
    "    (5.4, 3.9, 1.7, 0.4, 'setosa'),\n",
    "    (5.7, 2.8, 4.5, 1.3, 'versicolor'),\n",
    "    (5.0, 3.6, 1.4, 0.3, 'setosa'),\n",
    "    (5.5, 2.3, 4.0, 1.3, 'versicolor'),\n",
    "    (6.5, 3.0, 5.8, 2.2, 'virginica'),\n",
    "    (6.5, 2.8, 4.6, 1.5, 'versicolor'),\n",
    "    (6.3, 3.3, 6.0, 2.5, 'virginica'),\n",
    "    (6.9, 3.1, 4.9, 1.5, 'versicolor'),\n",
    "    (4.6, 3.1, 1.5, 0.2, 'setosa'),\n",
    "]"
   ]
  },
  {
   "cell_type": "code",
   "execution_count": null,
   "metadata": {},
   "outputs": [],
   "source": [
    "header = INPUT[0]"
   ]
  },
  {
   "cell_type": "code",
   "execution_count": null,
   "metadata": {},
   "outputs": [],
   "source": [
    "print(header)"
   ]
  },
  {
   "cell_type": "code",
   "execution_count": null,
   "metadata": {},
   "outputs": [],
   "source": [
    "output = list()"
   ]
  },
  {
   "cell_type": "code",
   "execution_count": null,
   "metadata": {},
   "outputs": [],
   "source": [
    "output.append(list(INPUT[2]))\n",
    "output.append(list(INPUT[6]))\n",
    "output.append(list(INPUT[9]))"
   ]
  },
  {
   "cell_type": "code",
   "execution_count": null,
   "metadata": {},
   "outputs": [],
   "source": [
    "output.append(tuple(INPUT[12]))\n",
    "output.append(tuple(INPUT[15]))\n",
    "output.append(tuple(INPUT[16]))"
   ]
  },
  {
   "cell_type": "code",
   "execution_count": null,
   "metadata": {},
   "outputs": [],
   "source": [
    "output.append(set())"
   ]
  },
  {
   "cell_type": "code",
   "execution_count": null,
   "metadata": {},
   "outputs": [],
   "source": [
    "print(output)"
   ]
  },
  {
   "cell_type": "code",
   "execution_count": null,
   "metadata": {},
   "outputs": [],
   "source": [
    "a = (0,1,2,3)"
   ]
  },
  {
   "cell_type": "code",
   "execution_count": null,
   "metadata": {},
   "outputs": [],
   "source": [
    "b = [2,3,4,5]"
   ]
  },
  {
   "cell_type": "code",
   "execution_count": null,
   "metadata": {},
   "outputs": [],
   "source": [
    "c = set()\n",
    "c.update(a[::2])\n",
    "c.update(tuple(b[::2]))"
   ]
  },
  {
   "cell_type": "code",
   "execution_count": null,
   "metadata": {},
   "outputs": [],
   "source": [
    "print(c)"
   ]
  },
  {
   "cell_type": "code",
   "execution_count": null,
   "metadata": {},
   "outputs": [],
   "source": [
    "INPUT = [\n",
    "    ('Sepal length', 'Sepal width', 'Petal length', 'Petal width', 'Species'),\n",
    "    (5.8, 2.7, 5.1, 1.9, 'virginica'),\n",
    "    (5.1, 3.5, 1.4, 0.2, 'setosa'),\n",
    "    (5.7, 2.8, 4.1, 1.3, 'versicolor'),\n",
    "    (6.3, 2.9, 5.6, 1.8, 'virginica'),\n",
    "    (6.4, 3.2, 4.5, 1.5, 'versicolor'),\n",
    "    (4.7, 3.2, 1.3, 0.2, 'setosa'),\n",
    "    (7.0, 3.2, 4.7, 1.4, 'versicolor'),\n",
    "    (7.6, 3.0, 6.6, 2.1, 'virginica'),\n",
    "    (4.9, 3.0, 1.4, 0.2, 'setosa'),\n",
    "    (4.9, 2.5, 4.5, 1.7, 'virginica'),\n",
    "    (7.1, 3.0, 5.9, 2.1, 'virginica'),\n",
    "    (4.6, 3.4, 1.4, 0.3, 'setosa'),\n",
    "    (5.4, 3.9, 1.7, 0.4, 'setosa'),\n",
    "    (5.7, 2.8, 4.5, 1.3, 'versicolor'),\n",
    "    (5.0, 3.6, 1.4, 0.3, 'setosa'),\n",
    "    (5.5, 2.3, 4.0, 1.3, 'versicolor'),\n",
    "    (6.5, 3.0, 5.8, 2.2, 'virginica'),\n",
    "    (6.5, 2.8, 4.6, 1.5, 'versicolor'),\n",
    "    (6.3, 3.3, 6.0, 2.5, 'virginica'),\n",
    "    (6.9, 3.1, 4.9, 1.5, 'versicolor'),\n",
    "    (4.6, 3.1, 1.5, 0.2, 'setosa'),\n",
    "]\n"
   ]
  },
  {
   "cell_type": "code",
   "execution_count": null,
   "metadata": {},
   "outputs": [],
   "source": [
    "header = INPUT[:1]"
   ]
  },
  {
   "cell_type": "code",
   "execution_count": null,
   "metadata": {},
   "outputs": [],
   "source": [
    "print(header)"
   ]
  },
  {
   "cell_type": "code",
   "execution_count": null,
   "metadata": {},
   "outputs": [],
   "source": [
    "data = INPUT[1:]"
   ]
  },
  {
   "cell_type": "code",
   "execution_count": null,
   "metadata": {},
   "outputs": [],
   "source": [
    "print(data)"
   ]
  },
  {
   "cell_type": "code",
   "execution_count": null,
   "metadata": {},
   "outputs": [],
   "source": [
    "point = int(len(data)*0.6)"
   ]
  },
  {
   "cell_type": "code",
   "execution_count": null,
   "metadata": {},
   "outputs": [],
   "source": [
    "print(point)"
   ]
  },
  {
   "cell_type": "code",
   "execution_count": null,
   "metadata": {},
   "outputs": [],
   "source": [
    "features = data[:point]"
   ]
  },
  {
   "cell_type": "code",
   "execution_count": null,
   "metadata": {},
   "outputs": [],
   "source": [
    "labels = data[point:]"
   ]
  },
  {
   "cell_type": "code",
   "execution_count": null,
   "metadata": {},
   "outputs": [],
   "source": [
    "\n",
    "INPUT = (\n",
    "    5.8, 2.7, 5.1, 1.9, 'virginica',\n",
    "    5.1, 3.5, 1.4, 0.2, 'setosa',\n",
    "    5.7, 2.8, 4.1, 1.3, 'versicolor',\n",
    "    6.3, 2.9, 5.6, 1.8, 'virginica',\n",
    "    6.4, 3.2, 4.5, 1.5, 'versicolor',\n",
    "    4.7, 3.2, 1.3, 0.2, 'setosa',\n",
    ")"
   ]
  },
  {
   "cell_type": "code",
   "execution_count": null,
   "metadata": {},
   "outputs": [],
   "source": [
    "mynewset = "
   ]
  },
  {
   "cell_type": "code",
   "execution_count": null,
   "metadata": {},
   "outputs": [],
   "source": [
    "print(test)"
   ]
  },
  {
   "cell_type": "code",
   "execution_count": null,
   "metadata": {},
   "outputs": [],
   "source": [
    "INPUT = '10.13.37.1      nasa.gov esa.int roscosmos.ru'\n"
   ]
  },
  {
   "cell_type": "code",
   "execution_count": null,
   "metadata": {},
   "outputs": [],
   "source": [
    "ip,*hosts = INPUT.split()"
   ]
  },
  {
   "cell_type": "code",
   "execution_count": null,
   "metadata": {},
   "outputs": [],
   "source": [
    "ip"
   ]
  },
  {
   "cell_type": "code",
   "execution_count": null,
   "metadata": {},
   "outputs": [],
   "source": [
    "hosts"
   ]
  },
  {
   "cell_type": "code",
   "execution_count": null,
   "metadata": {},
   "outputs": [],
   "source": [
    "INPUT: list = [\n",
    "    ('Sepal length', 'Sepal width', 'Petal length', 'Petal width', 'Species'),\n",
    "    (5.8, 2.7, 5.1, 1.9, 'virginica'),\n",
    "    (5.1, 3.5, 1.4, 0.2, 'setosa'),\n",
    "    (5.7, 2.8, 4.1, 1.3, 'versicolor'),\n",
    "    (6.3, 2.9, 5.6, 1.8, 'virginica'),\n",
    "    (6.4, 3.2, 4.5, 1.5, 'versicolor'),\n",
    "    (4.7, 3.2, 1.3, 0.2, 'setosa'),\n",
    "    (7.0, 3.2, 4.7, 1.4, 'versicolor'),\n",
    "    (7.6, 3.0, 6.6, 2.1, 'virginica'),\n",
    "    (4.9, 3.0, 1.4, 0.2, 'setosa'),\n",
    "    (4.9, 2.5, 4.5, 1.7, 'virginica'),\n",
    "    (7.1, 3.0, 5.9, 2.1, 'virginica'),\n",
    "    (4.6, 3.4, 1.4, 0.3, 'setosa'),\n",
    "    (5.4, 3.9, 1.7, 0.4, 'setosa'),\n",
    "    (5.7, 2.8, 4.5, 1.3, 'versicolor'),\n",
    "    (5.0, 3.6, 1.4, 0.3, 'setosa'),\n",
    "    (5.5, 2.3, 4.0, 1.3, 'versicolor'),\n",
    "    (6.5, 3.0, 5.8, 2.2, 'virginica'),\n",
    "    (6.5, 2.8, 4.6, 1.5, 'versicolor'),\n",
    "    (6.3, 3.3, 6.0, 2.5, 'virginica'),\n",
    "    (6.9, 3.1, 4.9, 1.5, 'versicolor'),\n",
    "    (4.6, 3.1, 1.5, 0.2, 'setosa'),\n",
    "]\n"
   ]
  },
  {
   "cell_type": "code",
   "execution_count": null,
   "metadata": {},
   "outputs": [],
   "source": [
    "header,*records = INPUT"
   ]
  },
  {
   "cell_type": "code",
   "execution_count": null,
   "metadata": {},
   "outputs": [],
   "source": [
    "print(header)"
   ]
  },
  {
   "cell_type": "code",
   "execution_count": null,
   "metadata": {},
   "outputs": [],
   "source": [
    "print(records)"
   ]
  },
  {
   "cell_type": "code",
   "execution_count": null,
   "metadata": {},
   "outputs": [],
   "source": [
    "mydict = {\"A\": \"Alfa\",\n",
    "\"B\": \"Bravo\",\n",
    "\"C\": \"Charlie\",\n",
    "\"D\": \"Delta\",\n",
    "\"E\": \"Echo\",\n",
    "\"F\": \"Foxtrot\",\n",
    "\"G\": \"Golf\",\n",
    "\"H\": \"Hotel\",\n",
    "\"I\": \"India\",\n",
    "\"J\": \"Juliet\",\n",
    "\"K\": \"Kilo\",\n",
    "\"L\": \"Lima\",\n",
    "\"M\": \"Mike\",\n",
    "\"N\": \"November\",\n",
    "\"O\": \"Oscar\",\n",
    "\"P\": \"Papa\",\n",
    "\"Q\": \"Quebec\",\n",
    "\"R\": \"Romeo\",\n",
    "\"S\": \"Sierra\",\n",
    "\"T\": \"Tango\",\n",
    "\"U\": \"Uniform\",\n",
    "\"V\": \"Victor\",\n",
    "\"W\": \"Whisky\",\n",
    "\"X\": \"X-Ray\",\n",
    "\"Y\": \"Yankee\",\n",
    "\"Z\": \"Zulu\"}\n"
   ]
  },
  {
   "cell_type": "code",
   "execution_count": null,
   "metadata": {},
   "outputs": [],
   "source": [
    "print(mydict.get(\"A\"))"
   ]
  },
  {
   "cell_type": "code",
   "execution_count": null,
   "metadata": {},
   "outputs": [],
   "source": [
    "number = input('wpisz licze: ')"
   ]
  },
  {
   "cell_type": "code",
   "execution_count": null,
   "metadata": {},
   "outputs": [],
   "source": [
    "int(number)%2 == 0"
   ]
  },
  {
   "cell_type": "code",
   "execution_count": null,
   "metadata": {},
   "outputs": [],
   "source": [
    "myset = set()\n",
    "myset.update(1)"
   ]
  },
  {
   "cell_type": "code",
   "execution_count": null,
   "metadata": {},
   "outputs": [],
   "source": [
    "age = input('podaj wiek: ')"
   ]
  },
  {
   "cell_type": "code",
   "execution_count": null,
   "metadata": {},
   "outputs": [],
   "source": [
    "age_mod2 = int(age)%2\n",
    "if age_mod2 != 0 :\n",
    "    print(f'twoj wiek to: {age}')"
   ]
  },
  {
   "cell_type": "code",
   "execution_count": null,
   "metadata": {},
   "outputs": [],
   "source": [
    "INPUT = (2, 3, 3.5, 4, 4.5, 5)\n",
    "print(len(INPUT))"
   ]
  },
  {
   "cell_type": "code",
   "execution_count": null,
   "metadata": {},
   "outputs": [],
   "source": [
    "i=0\n",
    "grades = []\n",
    "while i <len(INPUT):\n",
    "    grad = float(INPUT[i])\n",
    "    grades.append(grad)\n",
    "    i+=1"
   ]
  },
  {
   "cell_type": "code",
   "execution_count": null,
   "metadata": {},
   "outputs": [],
   "source": [
    "print(grades)"
   ]
  },
  {
   "cell_type": "code",
   "execution_count": null,
   "metadata": {},
   "outputs": [],
   "source": [
    "journal = []\n",
    "while True:\n",
    "    user_grade = input('podaj ocene: ')\n",
    "    if not user_grade:\n",
    "        break\n",
    "    user_grade = float(user_grade)\n",
    "    if user_grade in grades:\n",
    "        journal.append(user_grade)\n",
    "    else:\n",
    "        print(f'grade not allowed')\n",
    "        \n",
    "        \n"
   ]
  },
  {
   "cell_type": "code",
   "execution_count": null,
   "metadata": {},
   "outputs": [],
   "source": [
    "print(journal)"
   ]
  },
  {
   "cell_type": "code",
   "execution_count": null,
   "metadata": {},
   "outputs": [],
   "source": [
    "mean = sum(journal)/len(journal)"
   ]
  },
  {
   "cell_type": "code",
   "execution_count": null,
   "metadata": {},
   "outputs": [],
   "source": [
    "print(mean)"
   ]
  },
  {
   "cell_type": "code",
   "execution_count": 4,
   "metadata": {},
   "outputs": [],
   "source": [
    "INPUT = [1, 4, 6, 7, 4, 4, 4, 5, 1, 7, 0,\n",
    "         0, 6, 5, 0, 0, 9, 7, 0, 4, 4, 8,\n",
    "         2, 4, 0, 0, 1, 9, 1, 7, 8, 8, 9,\n",
    "         1, 3, 5, 6, 8, 2, 8, 1, 3, 9, 5,\n",
    "         4, 8, 1, 9, 6, 3]"
   ]
  },
  {
   "cell_type": "code",
   "execution_count": 9,
   "metadata": {},
   "outputs": [],
   "source": [
    "OUTPUT = dict()\n",
    "for number in INPUT:\n",
    "    #print(number)\n",
    "    if number in OUTPUT:\n",
    "        OUTPUT[number] += 1\n",
    "    else:\n",
    "        OUTPUT[number] = 1"
   ]
  },
  {
   "cell_type": "code",
   "execution_count": 10,
   "metadata": {},
   "outputs": [
    {
     "name": "stdout",
     "output_type": "stream",
     "text": [
      "{1: 7, 4: 8, 6: 4, 7: 4, 5: 4, 0: 7, 9: 5, 8: 6, 2: 2, 3: 3}\n"
     ]
    }
   ],
   "source": [
    "print(OUTPUT)"
   ]
  },
  {
   "cell_type": "code",
   "execution_count": 11,
   "metadata": {},
   "outputs": [],
   "source": [
    "INPUT = [1, 4, 6, 7, 4, 4, 4, 5, 1, 7, 0,\n",
    "         0, 6, 5, 0, 0, 9, 7, 0, 4, 4, 8,\n",
    "         2, 4, 0, 0, 1, 9, 1, 7, 8, 8, 9,\n",
    "         1, 3, 5, 6, 8, 2, 8, 1, 3, 9, 5,\n",
    "         4, 8, 1, 9, 6, 3]"
   ]
  },
  {
   "cell_type": "code",
   "execution_count": 18,
   "metadata": {},
   "outputs": [],
   "source": [
    "groups = dict()\n",
    "for number in INPUT:\n",
    "    \n",
    "    if 0 <= number <= 2:\n",
    "        if 'small' in groups:\n",
    "            groups['small'] += 1\n",
    "        else:\n",
    "            groups['small'] = 1\n",
    "    elif 3 <= number <= 7:\n",
    "        if 'medium' in groups:\n",
    "            groups['medium'] += 1\n",
    "        else:\n",
    "            groups['medium'] = 1"
   ]
  },
  {
   "cell_type": "code",
   "execution_count": 19,
   "metadata": {},
   "outputs": [
    {
     "name": "stdout",
     "output_type": "stream",
     "text": [
      "{'small': 16, 'medium': 23}\n"
     ]
    }
   ],
   "source": [
    "print(groups)"
   ]
  },
  {
   "cell_type": "code",
   "execution_count": 20,
   "metadata": {},
   "outputs": [],
   "source": [
    "TEXT = \"We choose to go to the Moon. We choose to go to the Moon in this decade and do the other things. Not because they are easy, but because they are hard. Because that goal will serve to organize and measure the best of our energies and skills. Because that challenge is one that we are willing to accept. One we are unwilling to postpone. And one we intend to win\"\n"
   ]
  },
  {
   "cell_type": "code",
   "execution_count": 21,
   "metadata": {},
   "outputs": [
    {
     "data": {
      "text/plain": [
       "'We choose to go to the Moon. We choose to go to the Moon in this decade and do the other things. Not because they are easy, but because they are hard. Because that goal will serve to organize and measure the best of our energies and skills. Because that challenge is one that we are willing to accept. One we are unwilling to postpone. And one we intend to win'"
      ]
     },
     "execution_count": 21,
     "metadata": {},
     "output_type": "execute_result"
    }
   ],
   "source": [
    "TEXT"
   ]
  },
  {
   "cell_type": "code",
   "execution_count": 22,
   "metadata": {},
   "outputs": [],
   "source": [
    "text_splitted = TEXT.split('.')"
   ]
  },
  {
   "cell_type": "code",
   "execution_count": 23,
   "metadata": {},
   "outputs": [
    {
     "data": {
      "text/plain": [
       "['We choose to go to the Moon',\n",
       " ' We choose to go to the Moon in this decade and do the other things',\n",
       " ' Not because they are easy, but because they are hard',\n",
       " ' Because that goal will serve to organize and measure the best of our energies and skills',\n",
       " ' Because that challenge is one that we are willing to accept',\n",
       " ' One we are unwilling to postpone',\n",
       " ' And one we intend to win']"
      ]
     },
     "execution_count": 23,
     "metadata": {},
     "output_type": "execute_result"
    }
   ],
   "source": [
    "text_splitted"
   ]
  },
  {
   "cell_type": "code",
   "execution_count": 37,
   "metadata": {},
   "outputs": [],
   "source": [
    "new_text = dict()\n",
    "total_number_of_words = 0\n",
    "total_number_of_letters = 0\n",
    "for row in text_splitted:\n",
    "    sentence = row.strip()\n",
    "    new_text[row.strip()] = 0\n",
    "    words = row.strip().split(' ')\n",
    "    new_text[sentence] = len(words)\n",
    "    total_number_of_words += len(words)\n",
    "    total_number_of_letters +=\n",
    "    "
   ]
  },
  {
   "cell_type": "code",
   "execution_count": 38,
   "metadata": {},
   "outputs": [
    {
     "data": {
      "text/plain": [
       "{'We choose to go to the Moon': 7,\n",
       " 'We choose to go to the Moon in this decade and do the other things': 15,\n",
       " 'Not because they are easy, but because they are hard': 10,\n",
       " 'Because that goal will serve to organize and measure the best of our energies and skills': 16,\n",
       " 'Because that challenge is one that we are willing to accept': 11,\n",
       " 'One we are unwilling to postpone': 6,\n",
       " 'And one we intend to win': 6}"
      ]
     },
     "execution_count": 38,
     "metadata": {},
     "output_type": "execute_result"
    }
   ],
   "source": [
    "new_text"
   ]
  },
  {
   "cell_type": "code",
   "execution_count": 39,
   "metadata": {},
   "outputs": [
    {
     "name": "stdout",
     "output_type": "stream",
     "text": [
      "sentences num: 7\n"
     ]
    }
   ],
   "source": [
    "print(f'sentences num: {len(new_text)}')\n",
    "  "
   ]
  },
  {
   "cell_type": "code",
   "execution_count": 40,
   "metadata": {},
   "outputs": [
    {
     "name": "stdout",
     "output_type": "stream",
     "text": [
      "total number of words 71\n"
     ]
    }
   ],
   "source": [
    "print(f'total number of words {total_number_of_words}')"
   ]
  },
  {
   "cell_type": "code",
   "execution_count": 42,
   "metadata": {},
   "outputs": [],
   "source": [
    "new_text = dict()\n",
    "total_number_of_words = 0\n",
    "total_number_of_letters = 0\n",
    "for sentence in TEXT.split('.'):\n",
    "    new_text[sentence.strip()] = 0\n",
    "    words = sentence.strip().split(' ')\n",
    "    new_text[sentence] = len(words)\n"
   ]
  },
  {
   "cell_type": "code",
   "execution_count": 43,
   "metadata": {},
   "outputs": [
    {
     "name": "stdout",
     "output_type": "stream",
     "text": [
      "sentences num: 13\n",
      "total number of words 0\n"
     ]
    }
   ],
   "source": [
    "print(f'sentences num: {len(new_text)}')\n",
    "print(f'total number of words {total_number_of_words}')"
   ]
  },
  {
   "cell_type": "code",
   "execution_count": 61,
   "metadata": {},
   "outputs": [],
   "source": [
    "INPUT = [\n",
    "    ('Sepal length', 'Sepal width', 'Petal length', 'Petal width', 'Species'),\n",
    "    (5.8, 2.7, 5.1, 1.9, {'virginica'}),\n",
    "    (5.1, 3.5, 1.4, 0.2, {'setosa'}),\n",
    "    (5.7, 2.8, 4.1, 1.3, {'versicolor'}),\n",
    "    (6.3, 2.9, 5.6, 1.8, {'virginica'}),\n",
    "    (6.4, 3.2, 4.5, 1.5, {'versicolor'}),\n",
    "    (4.7, 3.2, 1.3, 0.2, {'setosa'}),\n",
    "    (7.0, 3.2, 4.7, 1.4, {'versicolor'}),\n",
    "    (7.6, 3.0, 6.6, 2.1, {'virginica'}),\n",
    "    (4.6, 3.1, 1.5, 0.2, {'setosa'}),\n",
    "]"
   ]
  },
  {
   "cell_type": "code",
   "execution_count": 45,
   "metadata": {},
   "outputs": [],
   "source": [
    "header = INPUT[0]"
   ]
  },
  {
   "cell_type": "code",
   "execution_count": 47,
   "metadata": {},
   "outputs": [],
   "source": [
    "INPUT_WO_HEADER = INPUT[2:]"
   ]
  },
  {
   "cell_type": "code",
   "execution_count": 48,
   "metadata": {},
   "outputs": [
    {
     "data": {
      "text/plain": [
       "[(5.1, 3.5, 1.4, 0.2, {'setosa'}),\n",
       " (5.7, 2.8, 4.1, 1.3, {'versicolor'}),\n",
       " (6.3, 2.9, 5.6, 1.8, {'virginica'}),\n",
       " (6.4, 3.2, 4.5, 1.5, {'versicolor'}),\n",
       " (4.7, 3.2, 1.3, 0.2, {'setosa'}),\n",
       " (7.0, 3.2, 4.7, 1.4, {'versicolor'}),\n",
       " (7.6, 3.0, 6.6, 2.1, {'virginica'}),\n",
       " (4.6, 3.1, 1.5, 0.2, {'setosa'})]"
      ]
     },
     "execution_count": 48,
     "metadata": {},
     "output_type": "execute_result"
    }
   ],
   "source": [
    "INPUT_WO_HEADER"
   ]
  },
  {
   "cell_type": "code",
   "execution_count": 53,
   "metadata": {},
   "outputs": [
    {
     "name": "stdout",
     "output_type": "stream",
     "text": [
      "5.1\n",
      "3.5\n",
      "1.4\n",
      "0.2\n",
      "{'setosa'}\n",
      "5.7\n",
      "2.8\n",
      "4.1\n",
      "1.3\n",
      "{'versicolor'}\n",
      "6.3\n",
      "2.9\n",
      "5.6\n",
      "1.8\n",
      "{'virginica'}\n",
      "6.4\n",
      "3.2\n",
      "4.5\n",
      "1.5\n",
      "{'versicolor'}\n",
      "4.7\n",
      "3.2\n",
      "1.3\n",
      "0.2\n",
      "{'setosa'}\n",
      "7.0\n",
      "3.2\n",
      "4.7\n",
      "1.4\n",
      "{'versicolor'}\n",
      "7.6\n",
      "3.0\n",
      "6.6\n",
      "2.1\n",
      "{'virginica'}\n",
      "4.6\n",
      "3.1\n",
      "1.5\n",
      "0.2\n",
      "{'setosa'}\n"
     ]
    }
   ],
   "source": [
    "for row in INPUT[2:]:\n",
    "    \n",
    "        "
   ]
  },
  {
   "cell_type": "code",
   "execution_count": 62,
   "metadata": {},
   "outputs": [
    {
     "name": "stdout",
     "output_type": "stream",
     "text": [
      "setosa\n",
      "virginica\n",
      "setosa\n",
      "virginica\n",
      "setosa\n"
     ]
    }
   ],
   "source": [
    "for *_,species in INPUT[2:]:\n",
    "    spec = species.pop()\n",
    "    if spec.endswith('ca') or spec.endswith('sa'):\n",
    "        print(spec)"
   ]
  },
  {
   "cell_type": "code",
   "execution_count": 63,
   "metadata": {},
   "outputs": [],
   "source": [
    "#unique keys\n",
    "INPUT = [\n",
    "    {'Sepal length': 5.1, 'Sepal width': 3.5, 'Species': 'setosa'},\n",
    "    {'Petal length': 4.1, 'Petal width': 1.3, 'Species': 'versicolor'},\n",
    "    {'Sepal length': 6.3, 'Petal width': 1.8, 'Species': 'virginica'},\n",
    "    {'Sepal length': 5.0, 'Petal width': 0.2, 'Species': 'setosa'},\n",
    "    {'Sepal width': 2.8, 'Petal length': 4.1, 'Species': 'versicolor'},\n",
    "    {'Sepal width': 2.9, 'Petal width': 1.8, 'Species': 'virginica'},\n",
    "]"
   ]
  },
  {
   "cell_type": "code",
   "execution_count": 78,
   "metadata": {},
   "outputs": [
    {
     "name": "stdout",
     "output_type": "stream",
     "text": [
      "Sepal length\n",
      "Sepal width\n",
      "Species\n",
      "Petal length\n",
      "Petal width\n",
      "Species\n",
      "Sepal length\n",
      "Petal width\n",
      "Species\n",
      "Sepal length\n",
      "Petal width\n",
      "Species\n",
      "Sepal width\n",
      "Petal length\n",
      "Species\n",
      "Sepal width\n",
      "Petal width\n",
      "Species\n"
     ]
    }
   ],
   "source": [
    "my_set = set()\n",
    "for dicts in INPUT:\n",
    "    keys = dicts.keys()\n",
    "    for key in keys:\n",
    "        print(key)\n",
    "        #my_set.update(str(key))\n",
    "        "
   ]
  },
  {
   "cell_type": "code",
   "execution_count": 79,
   "metadata": {},
   "outputs": [
    {
     "name": "stdout",
     "output_type": "stream",
     "text": [
      "set()\n"
     ]
    }
   ],
   "source": [
    "print(my_set)"
   ]
  },
  {
   "cell_type": "code",
   "execution_count": 80,
   "metadata": {},
   "outputs": [],
   "source": [
    "#zadanie kolejne\n",
    "\n",
    "INPUT = {\n",
    "    6: ['Doctorate', 'Prof-school'],\n",
    "    5: ['Masters', 'Bachelor', 'Engineer'],\n",
    "    4: ['HS-grad'],\n",
    "    3: ['Junior High'],\n",
    "    2: ['Primary School'],\n",
    "    1: ['Kindergarten'],\n",
    "}\n"
   ]
  },
  {
   "cell_type": "code",
   "execution_count": 93,
   "metadata": {},
   "outputs": [
    {
     "name": "stdout",
     "output_type": "stream",
     "text": [
      "6\n",
      "['Doctorate', 'Prof-school']\n",
      "5\n",
      "['Masters', 'Bachelor', 'Engineer']\n",
      "4\n",
      "['HS-grad']\n",
      "3\n",
      "['Junior High']\n",
      "2\n",
      "['Primary School']\n",
      "1\n",
      "['Kindergarten']\n"
     ]
    }
   ],
   "source": [
    "new_dict = dict()\n",
    "for key,value in INPUT.items():\n",
    "    print(f'{key}')\n",
    "    print(f'{value}')\n",
    "    for val in value:\n",
    "        #print(val)\n",
    "        new_dict[val] = str(key)"
   ]
  },
  {
   "cell_type": "code",
   "execution_count": 94,
   "metadata": {},
   "outputs": [
    {
     "data": {
      "text/plain": [
       "{'Doctorate': '6',\n",
       " 'Prof-school': '6',\n",
       " 'Masters': '5',\n",
       " 'Bachelor': '5',\n",
       " 'Engineer': '5',\n",
       " 'HS-grad': '4',\n",
       " 'Junior High': '3',\n",
       " 'Primary School': '2',\n",
       " 'Kindergarten': '1'}"
      ]
     },
     "execution_count": 94,
     "metadata": {},
     "output_type": "execute_result"
    }
   ],
   "source": [
    "new_dict"
   ]
  },
  {
   "cell_type": "code",
   "execution_count": 97,
   "metadata": {},
   "outputs": [],
   "source": [
    "INPUT = [\n",
    "    ('Sepal length', 'Sepal width', 'Petal length', 'Petal width', 'Species'),\n",
    "    (5.8, 2.7, 5.1, 1.9, 'virginica'),\n",
    "    (5.1, 3.5, 1.4, 0.2, 'setosa'),\n",
    "    (5.7, 2.8, 4.1, 1.3, 'versicolor'),\n",
    "    (6.3, 2.9, 5.6, 1.8, 'virginica'),\n",
    "    (6.4, 3.2, 4.5, 1.5, 'versicolor'),\n",
    "    (4.7, 3.2, 1.3, 0.2, 'setosa'),\n",
    "    (7.0, 3.2, 4.7, 1.4, 'versicolor'),\n",
    "    (7.6, 3.0, 6.6, 2.1, 'virginica'),\n",
    "    (4.9, 3.0, 1.4, 0.2, 'setosa'),\n",
    "    (4.9, 2.5, 4.5, 1.7, 'virginica'),\n",
    "    (7.1, 3.0, 5.9, 2.1, 'virginica'),\n",
    "    (4.6, 3.4, 1.4, 0.3, 'setosa'),\n",
    "    (5.4, 3.9, 1.7, 0.4, 'setosa'),\n",
    "    (5.7, 2.8, 4.5, 1.3, 'versicolor'),\n",
    "    (5.0, 3.6, 1.4, 0.3, 'setosa'),\n",
    "    (5.5, 2.3, 4.0, 1.3, 'versicolor'),\n",
    "    (6.5, 3.0, 5.8, 2.2, 'virginica'),\n",
    "    (6.5, 2.8, 4.6, 1.5, 'versicolor'),\n",
    "    (6.3, 3.3, 6.0, 2.5, 'virginica'),\n",
    "    (6.9, 3.1, 4.9, 1.5, 'versicolor'),\n",
    "    (4.6, 3.1, 1.5, 0.2, 'setosa'),\n",
    "]"
   ]
  },
  {
   "cell_type": "code",
   "execution_count": 103,
   "metadata": {},
   "outputs": [
    {
     "name": "stdout",
     "output_type": "stream",
     "text": [
      "(5.8, 2.7, 5.1, 1.9, 'virginica')\n",
      "(5.1, 3.5, 1.4, 0.2, 'setosa')\n",
      "(5.7, 2.8, 4.1, 1.3, 'versicolor')\n",
      "(6.3, 2.9, 5.6, 1.8, 'virginica')\n",
      "(6.4, 3.2, 4.5, 1.5, 'versicolor')\n",
      "(4.7, 3.2, 1.3, 0.2, 'setosa')\n",
      "(7.0, 3.2, 4.7, 1.4, 'versicolor')\n",
      "(7.6, 3.0, 6.6, 2.1, 'virginica')\n",
      "(4.9, 3.0, 1.4, 0.2, 'setosa')\n",
      "(4.9, 2.5, 4.5, 1.7, 'virginica')\n",
      "(7.1, 3.0, 5.9, 2.1, 'virginica')\n",
      "(4.6, 3.4, 1.4, 0.3, 'setosa')\n",
      "(5.4, 3.9, 1.7, 0.4, 'setosa')\n",
      "(5.7, 2.8, 4.5, 1.3, 'versicolor')\n",
      "(5.0, 3.6, 1.4, 0.3, 'setosa')\n",
      "(5.5, 2.3, 4.0, 1.3, 'versicolor')\n",
      "(6.5, 3.0, 5.8, 2.2, 'virginica')\n",
      "(6.5, 2.8, 4.6, 1.5, 'versicolor')\n",
      "(6.3, 3.3, 6.0, 2.5, 'virginica')\n",
      "(6.9, 3.1, 4.9, 1.5, 'versicolor')\n",
      "(4.6, 3.1, 1.5, 0.2, 'setosa')\n"
     ]
    }
   ],
   "source": [
    "header,*data = INPUT\n",
    "output = []\n",
    "for row in data:\n",
    "    output.append(dict(''))"
   ]
  },
  {
   "cell_type": "code",
   "execution_count": 104,
   "metadata": {},
   "outputs": [],
   "source": [
    "testset = {'Sepal length': 5.1, 'Sepal width': 3.5, 'Species': 'setosa'}"
   ]
  },
  {
   "cell_type": "code",
   "execution_count": 110,
   "metadata": {},
   "outputs": [
    {
     "name": "stdout",
     "output_type": "stream",
     "text": [
      "('Sepal length', 5.1)\n",
      "('Sepal width', 3.5)\n",
      "('Species', 'setosa')\n"
     ]
    }
   ],
   "source": [
    "for val in testset.items():\n",
    "    print(val)\n"
   ]
  },
  {
   "cell_type": "code",
   "execution_count": null,
   "metadata": {},
   "outputs": [],
   "source": []
  }
 ],
 "metadata": {
  "kernelspec": {
   "display_name": "Python 3",
   "language": "python",
   "name": "python3"
  },
  "language_info": {
   "codemirror_mode": {
    "name": "ipython",
    "version": 3
   },
   "file_extension": ".py",
   "mimetype": "text/x-python",
   "name": "python",
   "nbconvert_exporter": "python",
   "pygments_lexer": "ipython3",
   "version": "3.7.4"
  }
 },
 "nbformat": 4,
 "nbformat_minor": 2
}
